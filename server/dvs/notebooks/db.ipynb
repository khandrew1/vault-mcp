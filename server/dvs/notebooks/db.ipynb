{
 "cells": [
  {
   "cell_type": "code",
   "execution_count": 6,
   "id": "eaac0605",
   "metadata": {},
   "outputs": [],
   "source": [
    "from db import Database\n",
    "import os\n",
    "from dotenv import load_dotenv\n",
    "import pandas as pd\n",
    "\n",
    "load_dotenv()\n",
    "\n",
    "HOST = os.getenv(\"REDIS_HOST\")\n",
    "PORT = os.getenv(\"REDIS_PORT\")\n",
    "PASSWORD = os.getenv(\"REDIS_PASSWORD\")"
   ]
  },
  {
   "cell_type": "code",
   "execution_count": 7,
   "id": "542e11d5",
   "metadata": {},
   "outputs": [],
   "source": [
    "db = Database(host = HOST, port = PORT, password = PASSWORD)"
   ]
  },
  {
   "cell_type": "code",
   "execution_count": 8,
   "id": "15a63d47",
   "metadata": {},
   "outputs": [
    {
     "ename": "AttributeError",
     "evalue": "'Database' object has no attribute 'add'",
     "output_type": "error",
     "traceback": [
      "\u001b[31m---------------------------------------------------------------------------\u001b[39m",
      "\u001b[31mAttributeError\u001b[39m                            Traceback (most recent call last)",
      "\u001b[36mCell\u001b[39m\u001b[36m \u001b[39m\u001b[32mIn[8]\u001b[39m\u001b[32m, line 1\u001b[39m\n\u001b[32m----> \u001b[39m\u001b[32m1\u001b[39m \u001b[43mdb\u001b[49m\u001b[43m.\u001b[49m\u001b[43mseed\u001b[49m\u001b[43m(\u001b[49m\u001b[33;43m\"\u001b[39;49m\u001b[33;43m./users.json\u001b[39;49m\u001b[33;43m\"\u001b[39;49m\u001b[43m)\u001b[49m\n",
      "\u001b[36mFile \u001b[39m\u001b[32m~/Desktop/poopy/dvs/db.py:64\u001b[39m, in \u001b[36mseed\u001b[39m\u001b[34m(self, filename)\u001b[39m\n\u001b[32m      0\u001b[39m <Error retrieving source code with stack_data see ipython/ipython#13598>\n",
      "\u001b[31mAttributeError\u001b[39m: 'Database' object has no attribute 'add'"
     ]
    }
   ],
   "source": [
    "db.seed(\"./users.json\")"
   ]
  },
  {
   "cell_type": "code",
   "execution_count": 3,
   "id": "e299cf51",
   "metadata": {},
   "outputs": [
    {
     "data": {
      "text/plain": [
       "{'id': 'user:123',\n",
       " 'name': 'Paul John',\n",
       " 'projects': ['one', 'two'],\n",
       " 'createdAt': '1753036868'}"
      ]
     },
     "execution_count": 3,
     "metadata": {},
     "output_type": "execute_result"
    }
   ],
   "source": [
    "db.get_user(\"123\")"
   ]
  },
  {
   "cell_type": "code",
   "execution_count": 4,
   "id": "88acb934",
   "metadata": {},
   "outputs": [],
   "source": [
    "user = {\n",
    "    \"id\": \"321\",\n",
    "    \"name\": \"Jane Doe\",\n",
    "    \"projects\": [\"three\", \"four\", \"five\"],\n",
    "}\n",
    "\n",
    "db.add_user(user)"
   ]
  },
  {
   "cell_type": "code",
   "execution_count": 5,
   "id": "0d1fa470",
   "metadata": {},
   "outputs": [
    {
     "data": {
      "text/plain": [
       "{'id': 'user:321',\n",
       " 'name': 'Jane Doe',\n",
       " 'projects': ['three', 'four', 'five'],\n",
       " 'createdAt': '1753037236'}"
      ]
     },
     "execution_count": 5,
     "metadata": {},
     "output_type": "execute_result"
    }
   ],
   "source": [
    "db.get_user(\"321\")"
   ]
  },
  {
   "cell_type": "code",
   "execution_count": null,
   "id": "7d975b35",
   "metadata": {},
   "outputs": [],
   "source": []
  }
 ],
 "metadata": {
  "language_info": {
   "name": "python"
  }
 },
 "nbformat": 4,
 "nbformat_minor": 5
}
