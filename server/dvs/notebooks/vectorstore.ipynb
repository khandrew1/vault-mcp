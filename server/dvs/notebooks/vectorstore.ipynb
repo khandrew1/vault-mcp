{
 "cells": [
  {
   "cell_type": "code",
   "execution_count": 1,
   "id": "4174d5c6",
   "metadata": {},
   "outputs": [],
   "source": [
    "from vectorstore import VectorStore\n",
    "import os\n",
    "from dotenv import load_dotenv\n",
    "import pandas as pd\n",
    "\n",
    "load_dotenv()\n",
    "\n",
    "HOSTNAME = os.getenv(\"REDIS_HOSTNAME\")"
   ]
  },
  {
   "cell_type": "code",
   "execution_count": 2,
   "id": "7766174f",
   "metadata": {},
   "outputs": [
    {
     "name": "stdout",
     "output_type": "stream",
     "text": [
      "12:22:08 redisvl.index.index INFO   Index already exists, overwriting.\n"
     ]
    },
    {
     "name": "stderr",
     "output_type": "stream",
     "text": [
      "/opt/anaconda3/envs/featureform/lib/python3.13/site-packages/tqdm/auto.py:21: TqdmWarning: IProgress not found. Please update jupyter and ipywidgets. See https://ipywidgets.readthedocs.io/en/stable/user_install.html\n",
      "  from .autonotebook import tqdm as notebook_tqdm\n"
     ]
    },
    {
     "name": "stdout",
     "output_type": "stream",
     "text": [
      "12:22:11 sentence_transformers.SentenceTransformer INFO   Use pytorch device_name: mps\n",
      "12:22:11 sentence_transformers.SentenceTransformer INFO   Load pretrained SentenceTransformer: sentence-transformers/all-mpnet-base-v2\n"
     ]
    },
    {
     "name": "stderr",
     "output_type": "stream",
     "text": [
      "Batches: 100%|██████████| 1/1 [00:00<00:00,  5.37it/s]\n"
     ]
    },
    {
     "name": "stdout",
     "output_type": "stream",
     "text": [
      "12:22:14 redisvl.index.index INFO   Index already exists, overwriting.\n",
      "12:22:14 sentence_transformers.SentenceTransformer INFO   Use pytorch device_name: mps\n",
      "12:22:14 sentence_transformers.SentenceTransformer INFO   Load pretrained SentenceTransformer: sentence-transformers/all-mpnet-base-v2\n"
     ]
    },
    {
     "name": "stderr",
     "output_type": "stream",
     "text": [
      "Batches: 100%|██████████| 1/1 [00:00<00:00, 44.23it/s]\n"
     ]
    }
   ],
   "source": [
    "# Create Memory and Context VectorStores\n",
    "\n",
    "context = VectorStore(hostname = HOSTNAME, index = \"context\")\n",
    "memory = VectorStore(hostname = HOSTNAME, index = \"memory\")"
   ]
  },
  {
   "cell_type": "code",
   "execution_count": 4,
   "id": "a623a6a1",
   "metadata": {},
   "outputs": [
    {
     "name": "stderr",
     "output_type": "stream",
     "text": [
      "Batches: 100%|██████████| 1/1 [00:00<00:00, 16.50it/s]\n"
     ]
    },
    {
     "data": {
      "text/html": [
       "<div>\n",
       "<style scoped>\n",
       "    .dataframe tbody tr th:only-of-type {\n",
       "        vertical-align: middle;\n",
       "    }\n",
       "\n",
       "    .dataframe tbody tr th {\n",
       "        vertical-align: top;\n",
       "    }\n",
       "\n",
       "    .dataframe thead th {\n",
       "        text-align: right;\n",
       "    }\n",
       "</style>\n",
       "<table border=\"1\" class=\"dataframe\">\n",
       "  <thead>\n",
       "    <tr style=\"text-align: right;\">\n",
       "      <th></th>\n",
       "      <th>id</th>\n",
       "      <th>vector_distance</th>\n",
       "      <th>project</th>\n",
       "      <th>user</th>\n",
       "      <th>content</th>\n",
       "    </tr>\n",
       "  </thead>\n",
       "  <tbody>\n",
       "    <tr>\n",
       "      <th>0</th>\n",
       "      <td>user_context:01K0MC498VJ5YP42KFR3G92XX0</td>\n",
       "      <td>0.519701400215</td>\n",
       "      <td>sample_project</td>\n",
       "      <td>jane_doe</td>\n",
       "      <td>Team members complain that the air conditionin...</td>\n",
       "    </tr>\n",
       "    <tr>\n",
       "      <th>1</th>\n",
       "      <td>user_context:01K0MC498SYQF8XFB7F748RTAY</td>\n",
       "      <td>0.838003215818</td>\n",
       "      <td>sample_project</td>\n",
       "      <td>jane_doe</td>\n",
       "      <td>The Python program is full of bugs</td>\n",
       "    </tr>\n",
       "    <tr>\n",
       "      <th>2</th>\n",
       "      <td>user_context:01K0MC498VB8YNCS5Z3M0R7FRS</td>\n",
       "      <td>0.884701028109</td>\n",
       "      <td>sample_project</td>\n",
       "      <td>jane_doe</td>\n",
       "      <td>The support staff often misses updates sent vi...</td>\n",
       "    </tr>\n",
       "  </tbody>\n",
       "</table>\n",
       "</div>"
      ],
      "text/plain": [
       "                                        id vector_distance         project  \\\n",
       "0  user_context:01K0MC498VJ5YP42KFR3G92XX0  0.519701400215  sample_project   \n",
       "1  user_context:01K0MC498SYQF8XFB7F748RTAY  0.838003215818  sample_project   \n",
       "2  user_context:01K0MC498VB8YNCS5Z3M0R7FRS  0.884701028109  sample_project   \n",
       "\n",
       "       user                                            content  \n",
       "0  jane_doe  Team members complain that the air conditionin...  \n",
       "1  jane_doe                 The Python program is full of bugs  \n",
       "2  jane_doe  The support staff often misses updates sent vi...  "
      ]
     },
     "execution_count": 4,
     "metadata": {},
     "output_type": "execute_result"
    }
   ],
   "source": [
    "# Query based on sample user prompt\n",
    "\n",
    "results = context.query(\"jane_doe\", \"how is the air conditioning?\")\n",
    "df = pd.DataFrame(results)\n",
    "\n",
    "df.head()"
   ]
  },
  {
   "cell_type": "code",
   "execution_count": null,
   "id": "ce53b157",
   "metadata": {},
   "outputs": [],
   "source": [
    "# Add new vector to vectorstore\n",
    "\n",
    "context.add(\"vector search in redis is super easy to implement\")"
   ]
  }
 ],
 "metadata": {
  "kernelspec": {
   "display_name": "featureform",
   "language": "python",
   "name": "python3"
  },
  "language_info": {
   "codemirror_mode": {
    "name": "ipython",
    "version": 3
   },
   "file_extension": ".py",
   "mimetype": "text/x-python",
   "name": "python",
   "nbconvert_exporter": "python",
   "pygments_lexer": "ipython3",
   "version": "3.13.5"
  }
 },
 "nbformat": 4,
 "nbformat_minor": 5
}
